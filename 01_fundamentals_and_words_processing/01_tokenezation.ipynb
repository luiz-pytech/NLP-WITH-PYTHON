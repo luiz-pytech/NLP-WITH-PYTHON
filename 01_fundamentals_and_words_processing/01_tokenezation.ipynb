{
 "cells": [
  {
   "cell_type": "markdown",
   "id": "5f74931b",
   "metadata": {},
   "source": [
    "### Tarefa 1 - Tokenização\n",
    "- Pegue uma avaliação de produto em texto. \n",
    "- Tokenize o texto em frases.\n",
    "- Para cada frase, tokenize-a em palavras.\n",
    "- Imprima o número de frases e o número de palavras em cada frase.\n"
   ]
  },
  {
   "cell_type": "code",
   "execution_count": 7,
   "id": "7896fb6d",
   "metadata": {},
   "outputs": [
    {
     "data": {
      "text/html": [
       "<div>\n",
       "<style scoped>\n",
       "    .dataframe tbody tr th:only-of-type {\n",
       "        vertical-align: middle;\n",
       "    }\n",
       "\n",
       "    .dataframe tbody tr th {\n",
       "        vertical-align: top;\n",
       "    }\n",
       "\n",
       "    .dataframe thead th {\n",
       "        text-align: right;\n",
       "    }\n",
       "</style>\n",
       "<table border=\"1\" class=\"dataframe\">\n",
       "  <thead>\n",
       "    <tr style=\"text-align: right;\">\n",
       "      <th></th>\n",
       "      <th>review_id</th>\n",
       "      <th>order_id</th>\n",
       "      <th>review_score</th>\n",
       "      <th>review_comment_title</th>\n",
       "      <th>review_comment_message</th>\n",
       "      <th>review_creation_date</th>\n",
       "      <th>review_answer_timestamp</th>\n",
       "    </tr>\n",
       "  </thead>\n",
       "  <tbody>\n",
       "    <tr>\n",
       "      <th>0</th>\n",
       "      <td>7bc2406110b926393aa56f80a40eba40</td>\n",
       "      <td>73fc7af87114b39712e6da79b0a377eb</td>\n",
       "      <td>4</td>\n",
       "      <td>NaN</td>\n",
       "      <td>NaN</td>\n",
       "      <td>2018-01-18 00:00:00</td>\n",
       "      <td>2018-01-18 21:46:59</td>\n",
       "    </tr>\n",
       "    <tr>\n",
       "      <th>1</th>\n",
       "      <td>80e641a11e56f04c1ad469d5645fdfde</td>\n",
       "      <td>a548910a1c6147796b98fdf73dbeba33</td>\n",
       "      <td>5</td>\n",
       "      <td>NaN</td>\n",
       "      <td>NaN</td>\n",
       "      <td>2018-03-10 00:00:00</td>\n",
       "      <td>2018-03-11 03:05:13</td>\n",
       "    </tr>\n",
       "    <tr>\n",
       "      <th>2</th>\n",
       "      <td>228ce5500dc1d8e020d8d1322874b6f0</td>\n",
       "      <td>f9e4b658b201a9f2ecdecbb34bed034b</td>\n",
       "      <td>5</td>\n",
       "      <td>NaN</td>\n",
       "      <td>NaN</td>\n",
       "      <td>2018-02-17 00:00:00</td>\n",
       "      <td>2018-02-18 14:36:24</td>\n",
       "    </tr>\n",
       "    <tr>\n",
       "      <th>3</th>\n",
       "      <td>e64fb393e7b32834bb789ff8bb30750e</td>\n",
       "      <td>658677c97b385a9be170737859d3511b</td>\n",
       "      <td>5</td>\n",
       "      <td>NaN</td>\n",
       "      <td>Recebi bem antes do prazo estipulado.</td>\n",
       "      <td>2017-04-21 00:00:00</td>\n",
       "      <td>2017-04-21 22:02:06</td>\n",
       "    </tr>\n",
       "    <tr>\n",
       "      <th>4</th>\n",
       "      <td>f7c4243c7fe1938f181bec41a392bdeb</td>\n",
       "      <td>8e6bfb81e283fa7e4f11123a3fb894f1</td>\n",
       "      <td>5</td>\n",
       "      <td>NaN</td>\n",
       "      <td>Parabéns lojas lannister adorei comprar pela I...</td>\n",
       "      <td>2018-03-01 00:00:00</td>\n",
       "      <td>2018-03-02 10:26:53</td>\n",
       "    </tr>\n",
       "  </tbody>\n",
       "</table>\n",
       "</div>"
      ],
      "text/plain": [
       "                          review_id                          order_id  \\\n",
       "0  7bc2406110b926393aa56f80a40eba40  73fc7af87114b39712e6da79b0a377eb   \n",
       "1  80e641a11e56f04c1ad469d5645fdfde  a548910a1c6147796b98fdf73dbeba33   \n",
       "2  228ce5500dc1d8e020d8d1322874b6f0  f9e4b658b201a9f2ecdecbb34bed034b   \n",
       "3  e64fb393e7b32834bb789ff8bb30750e  658677c97b385a9be170737859d3511b   \n",
       "4  f7c4243c7fe1938f181bec41a392bdeb  8e6bfb81e283fa7e4f11123a3fb894f1   \n",
       "\n",
       "   review_score review_comment_title  \\\n",
       "0             4                  NaN   \n",
       "1             5                  NaN   \n",
       "2             5                  NaN   \n",
       "3             5                  NaN   \n",
       "4             5                  NaN   \n",
       "\n",
       "                              review_comment_message review_creation_date  \\\n",
       "0                                                NaN  2018-01-18 00:00:00   \n",
       "1                                                NaN  2018-03-10 00:00:00   \n",
       "2                                                NaN  2018-02-17 00:00:00   \n",
       "3              Recebi bem antes do prazo estipulado.  2017-04-21 00:00:00   \n",
       "4  Parabéns lojas lannister adorei comprar pela I...  2018-03-01 00:00:00   \n",
       "\n",
       "  review_answer_timestamp  \n",
       "0     2018-01-18 21:46:59  \n",
       "1     2018-03-11 03:05:13  \n",
       "2     2018-02-18 14:36:24  \n",
       "3     2017-04-21 22:02:06  \n",
       "4     2018-03-02 10:26:53  "
      ]
     },
     "execution_count": 7,
     "metadata": {},
     "output_type": "execute_result"
    }
   ],
   "source": [
    "# Importing the libraries\n",
    "import nltk\n",
    "import pandas as pd\n",
    "import json\n",
    "\n",
    "dataframe = pd.read_csv('../dataset/olist_order_reviews_dataset.csv')\n",
    "\n",
    "# Displaying the first rows of the dataframe\n",
    "dataframe.head()\n"
   ]
  },
  {
   "cell_type": "code",
   "execution_count": 8,
   "id": "4a3d1150",
   "metadata": {},
   "outputs": [
    {
     "name": "stdout",
     "output_type": "stream",
     "text": [
      "nan\n",
      "nan\n",
      "nan\n",
      "Recebi bem antes do prazo estipulado.\n",
      "Parabéns lojas lannister adorei comprar pela Internet seguro e prático Parabéns a todos feliz Páscoa\n",
      "nan\n",
      "nan\n",
      "nan\n",
      "nan\n",
      "aparelho eficiente. no site a marca do aparelho esta impresso como 3desinfector e ao chegar esta com outro nome...atualizar com a marca correta uma vez que é o mesmo aparelho\n",
      "nan\n",
      "nan\n",
      "Mas um pouco ,travando...pelo valor ta Boa.\n",
      "\n",
      "nan\n",
      "nan\n",
      "Vendedor confiável, produto ok e entrega antes do prazo.\n",
      "GOSTARIA DE SABER O QUE HOUVE, SEMPRE RECEBI E ESSA COMPRA AGORA ME DECPCIONOU\n",
      "nan\n",
      "nan\n",
      "Péssimo\n",
      "nan\n",
      "nan\n",
      "Loja nota 10\n",
      "nan\n",
      "obrigado pela atençao amim dispensada\n",
      "nan\n",
      "nan\n",
      "A compra foi realizada facilmente.\n",
      "A entrega foi efetuada muito antes do prazo dado.\n",
      "O produto já começou a ser usado e até o presente,\n",
      "sem problemas.\n",
      "relógio muito bonito e barato.\n",
      "Não gostei ! Comprei gato por lebre\n",
      "nan\n",
      "nan\n",
      "Sempre compro pela Internet e a entrega ocorre antes do prazo combinado, que acredito ser o prazo máximo. No stark o prazo máximo já se esgotou e ainda não recebi o produto.\n",
      "nan\n",
      "Recebi exatamente o que esperava. As demais encomendas de outros vendedores atrasaram, mas esta chegou no prazo.\n",
      "nan\n",
      "Recomendo ,\n",
      "muito boa \n",
      "Tô completamente apaixonada, loja super responsável e confiável!\n",
      "Nada de chegar o meu pedido.\n",
      "nan\n",
      "nan\n",
      "nan\n",
      "Muito bom. muito cheiroso.\n",
      "nan\n",
      "nan\n",
      "nan\n",
      "otimo vendedor chegou ate antes do prazo , adorei o produto\n",
      "nan\n",
      "Processo de compra tranquilo e eficiente.\n",
      "Tomara q dure pois é de pelinho.\n",
      "recebi somente 1 controle Midea Split ESTILO.\n",
      "Faltou Controle Remoto para Ar Condicionado Consul\n",
      "nan\n",
      "nan\n",
      "nan\n",
      "boa\n",
      "nan\n",
      "nan\n",
      "nan\n",
      "MT lindo\n",
      "nan\n",
      "Ocorreu tudo como contratado sendo a entrega realizada antes do prazo \n",
      " Estou satisfeita\n",
      "\n",
      "Amei achei lindo ,muito delicado adorei\n",
      "nan\n",
      "Ótima loja para parceria: rápidíssima, produtos bem embalados e de qualidade! Só o custo do frete que foi meio azedo.\n",
      "nan\n",
      "nan\n",
      "Recomendo o vendedor... \n",
      "O produto não chegou no prazo estipulado e causou transtorno, pq programei a viagem de férias do meu filho, baseado no prazo. Moro na Bahia e ele em Cuiabá sozinho. Agora, a casa está vazia. \n",
      "Produto entregue como solicitado, e com muita brevidade. Parabéns!\n",
      "\n",
      "nan\n",
      "nan\n",
      "nan\n",
      "Eu comprei duas unidades e só recebi uma e agora o que faço?\n",
      "nan\n",
      "Produto bom, porém o que veio para mim não condiz com a foto do anúncio.\n",
      "Produto muito inferior, mal acabado.\n",
      "nan\n",
      "nan\n",
      "O kit mochila patrulha canina é lindo!! Meu netinho vai amar!! Obrigada!!\n",
      "Maravilha \n",
      "nan\n",
      "nan\n",
      "nan\n",
      "nan\n",
      "nan\n",
      "nan\n",
      "Entrega no prazo\n",
      "Cumpriu o prometido na compra e com o uma entrega em tempo satisfatório \n",
      "Pedi reembolso e sem resposta até momento \n",
      "Super rápido.\n",
      "nan\n",
      "nan\n",
      "nan\n",
      "nan\n",
      "nan\n",
      "nan\n",
      "nan\n",
      "nan\n",
      "nan\n"
     ]
    }
   ],
   "source": [
    "# Getting the review comments\n",
    "feedbacks = dataframe['review_comment_message']\n",
    "\n",
    "# Printing the first 100 comments for my review\n",
    "for feedback in feedbacks[:100]:\n",
    "    print(feedback)\n",
    "    \n",
    "feedback_match = feedbacks[4]\n"
   ]
  },
  {
   "cell_type": "markdown",
   "id": "27ef154b",
   "metadata": {},
   "source": [
    "- Após escolha do feedback podemos tokenizar a frase para atividade\n",
    "\n",
    "´´´Parabéns lojas lannister adorei comprar pela Internet seguro e prático Parabéns a todos feliz Páscoa´´´"
   ]
  },
  {
   "cell_type": "code",
   "execution_count": 9,
   "id": "c196f691",
   "metadata": {},
   "outputs": [
    {
     "name": "stdout",
     "output_type": "stream",
     "text": [
      "['Parabéns lojas lannister adorei comprar pela Internet seguro e prático Parabéns a todos feliz Páscoa']\n",
      "['Parabéns', 'lojas', 'lannister', 'adorei', 'comprar', 'pela', 'Internet', 'seguro', 'e', 'prático', 'Parabéns', 'a', 'todos', 'feliz', 'Páscoa']\n"
     ]
    },
    {
     "name": "stderr",
     "output_type": "stream",
     "text": [
      "[nltk_data] Downloading package punkt to\n",
      "[nltk_data]     C:\\Users\\lf060\\AppData\\Roaming\\nltk_data...\n",
      "[nltk_data]   Package punkt is already up-to-date!\n"
     ]
    }
   ],
   "source": [
    "nltk.download('punkt')\n",
    "# tokenizing in sentences\n",
    "sentences = nltk.sent_tokenize(feedback_match)\n",
    "print(sentences)\n",
    "\n",
    "tokens = []\n",
    "# tokenizing in words\n",
    "for sentence in sentences:\n",
    "    words = nltk.word_tokenize(sentence)\n",
    "    print(words)\n",
    "    tokens.append(words)"
   ]
  },
  {
   "cell_type": "code",
   "execution_count": 10,
   "id": "6a364df1",
   "metadata": {},
   "outputs": [
    {
     "name": "stdout",
     "output_type": "stream",
     "text": [
      "quantidade de frases: 1\n",
      "quantidade de palavras 15\n",
      "tokens: [['Parabéns', 'lojas', 'lannister', 'adorei', 'comprar', 'pela', 'Internet', 'seguro', 'e', 'prático', 'Parabéns', 'a', 'todos', 'feliz', 'Páscoa']] quantidade: 1\n"
     ]
    }
   ],
   "source": [
    "print(f\"quantidade de frases: {len(sentences)}\")\n",
    "print(f\"quantidade de palavras {len(words)}\")\n",
    "print(f\"tokens: {tokens} quantidade: {len(tokens)}\")"
   ]
  },
  {
   "cell_type": "code",
   "execution_count": 11,
   "id": "4aaaeca6",
   "metadata": {},
   "outputs": [
    {
     "name": "stdout",
     "output_type": "stream",
     "text": [
      "\n",
      "Arquivo JSON salvo com sucesso!\n"
     ]
    }
   ],
   "source": [
    "# Saving tokens\n",
    "with open('01_tokens.json', 'w', encoding='utf-8') as f:\n",
    "    json.dump(tokens, f, ensure_ascii=False, indent=4)\n",
    "\n",
    "print(\"\\nArquivo JSON salvo com sucesso!\")"
   ]
  },
  {
   "cell_type": "code",
   "execution_count": null,
   "id": "f0406637",
   "metadata": {},
   "outputs": [],
   "source": []
  }
 ],
 "metadata": {
  "kernelspec": {
   "display_name": "venv (3.13.2)",
   "language": "python",
   "name": "python3"
  },
  "language_info": {
   "codemirror_mode": {
    "name": "ipython",
    "version": 3
   },
   "file_extension": ".py",
   "mimetype": "text/x-python",
   "name": "python",
   "nbconvert_exporter": "python",
   "pygments_lexer": "ipython3",
   "version": "3.13.2"
  }
 },
 "nbformat": 4,
 "nbformat_minor": 5
}
