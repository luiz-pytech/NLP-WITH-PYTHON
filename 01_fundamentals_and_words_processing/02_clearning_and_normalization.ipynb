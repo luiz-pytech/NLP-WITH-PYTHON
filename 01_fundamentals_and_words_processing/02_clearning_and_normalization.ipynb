{
 "cells": [
  {
   "cell_type": "markdown",
   "id": "60586217",
   "metadata": {},
   "source": [
    "### Tarefa 2 - Limpeza de Texto - Stopwords e Pontuação\n",
    "- A partir da lista de tokens da questão anterior, remova as stopwords (palavras comuns como 'e', 'ou', 'de', 'para'). Utilize uma lista de stopwords em português (bibliotecas como NLTK ou spaCy já possuem).\n",
    "- Remova também toda a pontuação (., !, ?, etc.).\n",
    "- Compare a lista de tokens original com a lista de tokens limpa.\n"
   ]
  },
  {
   "cell_type": "code",
   "execution_count": null,
   "id": "f76b2b79",
   "metadata": {},
   "outputs": [],
   "source": [
    "# Importing the libraries\n",
    "import nltk\n",
    "import pandas as pd\n",
    "import json\n",
    "import string\n",
    "\n",
    "from nltk.corpus import stopwords\n",
    "\n",
    "# loading the dataset\n",
    "datas = json.load(open('01_tokens.json', 'r', encoding='utf-8'))"
   ]
  },
  {
   "cell_type": "code",
   "execution_count": 15,
   "id": "22184f8d",
   "metadata": {},
   "outputs": [
    {
     "name": "stdout",
     "output_type": "stream",
     "text": [
      "['a', 'à', 'ao', 'aos', 'aquela', 'aquelas', 'aquele', 'aqueles', 'aquilo', 'as']\n"
     ]
    },
    {
     "name": "stderr",
     "output_type": "stream",
     "text": [
      "[nltk_data] Downloading package stopwords to\n",
      "[nltk_data]     C:\\Users\\lf060\\AppData\\Roaming\\nltk_data...\n",
      "[nltk_data]   Package stopwords is already up-to-date!\n"
     ]
    }
   ],
   "source": [
    "# Acessing stopwords in portuguese\n",
    "nltk.download('stopwords')\n",
    "stop_words = stopwords.words('portuguese')\n",
    "print(stop_words[:10])"
   ]
  },
  {
   "cell_type": "code",
   "execution_count": 16,
   "id": "ae4b7f7b",
   "metadata": {},
   "outputs": [],
   "source": [
    "filtered_tokens = []\n",
    "for data in datas:\n",
    "    for word in data:\n",
    "        lower_word = word.lower()\n",
    "        if lower_word not in stop_words and lower_word not in string.punctuation:\n",
    "           filtered_tokens.append(lower_word)"
   ]
  },
  {
   "cell_type": "code",
   "execution_count": 17,
   "id": "78f9d6fb",
   "metadata": {},
   "outputs": [
    {
     "name": "stdout",
     "output_type": "stream",
     "text": [
      "Original tokens: [['Parabéns', 'lojas', 'lannister', 'adorei', 'comprar', 'pela', 'Internet', 'seguro', 'e', 'prático', 'Parabéns', 'a', 'todos', 'feliz', 'Páscoa']]\n",
      "filtered tokens: ['parabéns', 'lojas', 'lannister', 'adorei', 'comprar', 'internet', 'seguro', 'prático', 'parabéns', 'todos', 'feliz', 'páscoa']\n"
     ]
    }
   ],
   "source": [
    "print(f\"Original tokens: {datas}\")\n",
    "print(f\"filtered tokens: {filtered_tokens}\")"
   ]
  },
  {
   "cell_type": "markdown",
   "id": "9c58949d",
   "metadata": {},
   "source": [
    "### Tarefa 3 - (Normalização - Lowercasing):\n",
    "- Crie uma função que receba um texto e o retorne inteiramente em letras minúsculas.\n",
    "- Aplique esta função em 5 avaliações de produtos diferentes.\n"
   ]
  },
  {
   "cell_type": "code",
   "execution_count": 19,
   "id": "19652300",
   "metadata": {},
   "outputs": [],
   "source": [
    "# function to lowercase text\n",
    "def lowercasing(text) -> str:\n",
    "    return text.lower()\n",
    "\n",
    "dataframe = pd.read_csv('../dataset/olist_order_reviews_dataset.csv')\n",
    "feedbacks = (data for  data in dataframe['review_comment_message'] if not pd.isna(data))\n"
   ]
  },
  {
   "cell_type": "code",
   "execution_count": 20,
   "id": "f77b5cb0",
   "metadata": {},
   "outputs": [
    {
     "name": "stdout",
     "output_type": "stream",
     "text": [
      "['recebi bem antes do prazo estipulado.', 'parabéns lojas lannister adorei comprar pela internet seguro e prático parabéns a todos feliz páscoa', 'aparelho eficiente. no site a marca do aparelho esta impresso como 3desinfector e ao chegar esta com outro nome...atualizar com a marca correta uma vez que é o mesmo aparelho', 'mas um pouco ,travando...pelo valor ta boa.\\r\\n', 'vendedor confiável, produto ok e entrega antes do prazo.', 'gostaria de saber o que houve, sempre recebi e essa compra agora me decpcionou', 'péssimo', 'loja nota 10', 'obrigado pela atençao amim dispensada', 'a compra foi realizada facilmente.\\r\\na entrega foi efetuada muito antes do prazo dado.\\r\\no produto já começou a ser usado e até o presente,\\r\\nsem problemas.']\n"
     ]
    }
   ],
   "source": [
    "feedbacks_lower = []\n",
    "\n",
    "for feedback in feedbacks:\n",
    "    feedbacks_lower.append(lowercasing(feedback))\n",
    "\n",
    "print(feedbacks_lower[:10])"
   ]
  },
  {
   "cell_type": "code",
   "execution_count": null,
   "id": "d700a30d",
   "metadata": {},
   "outputs": [],
   "source": []
  }
 ],
 "metadata": {
  "kernelspec": {
   "display_name": "venv (3.13.2)",
   "language": "python",
   "name": "python3"
  },
  "language_info": {
   "codemirror_mode": {
    "name": "ipython",
    "version": 3
   },
   "file_extension": ".py",
   "mimetype": "text/x-python",
   "name": "python",
   "nbconvert_exporter": "python",
   "pygments_lexer": "ipython3",
   "version": "3.13.2"
  }
 },
 "nbformat": 4,
 "nbformat_minor": 5
}
