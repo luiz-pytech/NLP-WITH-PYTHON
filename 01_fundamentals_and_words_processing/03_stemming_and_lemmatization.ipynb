{
 "cells": [
  {
   "cell_type": "markdown",
   "id": "020494e0",
   "metadata": {},
   "source": [
    "### Tarefa 4 - Radicalização - Stemming\n",
    "- Utilize um stemmer para o português (ex: NLTK.stem.RSLPStemmer).\n",
    "- Aplique o stemming na lista de tokens limpa da Questão 2.\n",
    "- Observe e anote as diferenças. Você consegue identificar palavras que foram reduzidas ao mesmo radical? (ex: \"gostou\", \"gostei\", \"gostamos\" -> \"gost\")\n"
   ]
  },
  {
   "cell_type": "code",
   "execution_count": null,
   "id": "747e7d86",
   "metadata": {},
   "outputs": [
    {
     "ename": "ModuleNotFoundError",
     "evalue": "No module named 'spacy'",
     "output_type": "error",
     "traceback": [
      "\u001b[31m---------------------------------------------------------------------------\u001b[39m",
      "\u001b[31mModuleNotFoundError\u001b[39m                       Traceback (most recent call last)",
      "\u001b[36mCell\u001b[39m\u001b[36m \u001b[39m\u001b[32mIn[12]\u001b[39m\u001b[32m, line 4\u001b[39m\n\u001b[32m      2\u001b[39m \u001b[38;5;28;01mimport\u001b[39;00m\u001b[38;5;250m \u001b[39m\u001b[34;01mjson\u001b[39;00m\n\u001b[32m      3\u001b[39m \u001b[38;5;28;01mimport\u001b[39;00m\u001b[38;5;250m \u001b[39m\u001b[34;01mnltk\u001b[39;00m\n\u001b[32m----> \u001b[39m\u001b[32m4\u001b[39m \u001b[38;5;28;01mimport\u001b[39;00m\u001b[38;5;250m \u001b[39m\u001b[34;01mspacy\u001b[39;00m\n\u001b[32m      5\u001b[39m \u001b[38;5;28;01mfrom\u001b[39;00m\u001b[38;5;250m \u001b[39m\u001b[34;01mnltk\u001b[39;00m\u001b[34;01m.\u001b[39;00m\u001b[34;01mstem\u001b[39;00m\u001b[38;5;250m \u001b[39m\u001b[38;5;28;01mimport\u001b[39;00m RSLPStemmer\n\u001b[32m      7\u001b[39m nltk.download(\u001b[33m'\u001b[39m\u001b[33mrslp\u001b[39m\u001b[33m'\u001b[39m)\n",
      "\u001b[31mModuleNotFoundError\u001b[39m: No module named 'spacy'"
     ]
    }
   ],
   "source": [
    "# import the modules\n",
    "import json\n",
    "import nltk\n",
    "from nltk.stem import RSLPStemmer\n",
    "\n",
    "nltk.download('rslp')\n",
    "# loading the dataset\n",
    "datas = json.load(open('01_tokens.json', 'r', encoding='utf-8'))"
   ]
  },
  {
   "cell_type": "code",
   "execution_count": 7,
   "id": "4ca13031",
   "metadata": {},
   "outputs": [
    {
     "name": "stdout",
     "output_type": "stream",
     "text": [
      "['parabém', 'loj', 'lannist', 'ador', 'compr', 'pel', 'internet', 'segur', 'e', 'prát']\n"
     ]
    }
   ],
   "source": [
    "stemmer = RSLPStemmer()\n",
    "\n",
    "stemmed = []\n",
    "for data in datas:\n",
    "    for palavra in data:\n",
    "        palavra.lower()\n",
    "        stemmed.append(stemmer.stem(palavra))\n",
    "\n",
    "print(stemmed[:10])"
   ]
  },
  {
   "cell_type": "markdown",
   "id": "831a3a36",
   "metadata": {},
   "source": [
    "### Tarefa 5 - Lematização\n",
    "- Utilize uma biblioteca que suporte lematização para o português (como o spaCy).\n",
    "- Aplique a lematização na mesma lista de tokens limpa da Questão 2.\n",
    "- Compare os resultados da lematização com os da radicalização (Questão 4). \n",
    "- Qual deles parece gerar palavras mais \"reais\" e compreensíveis?\n"
   ]
  },
  {
   "cell_type": "code",
   "execution_count": 15,
   "id": "a8be178d",
   "metadata": {},
   "outputs": [],
   "source": [
    "# load the spacy model for Portuguese\n",
    "import spacy\n",
    "nlp = spacy.load(\"pt_core_news_sm\")\n",
    "\n",
    "lemmatized = []\n",
    "for data in datas:\n",
    "    for palavra in data:\n",
    "        palavra.lower()\n",
    "        lemmatized.append(nlp(palavra))\n"
   ]
  },
  {
   "cell_type": "code",
   "execution_count": 16,
   "id": "861d1e0d",
   "metadata": {},
   "outputs": [
    {
     "name": "stdout",
     "output_type": "stream",
     "text": [
      "[Parabéns, lojas, lannister, adorei, comprar, pela, Internet, seguro, e, prático]\n"
     ]
    }
   ],
   "source": [
    "print(lemmatized[:10])"
   ]
  },
  {
   "cell_type": "markdown",
   "id": "1d59e2ba",
   "metadata": {},
   "source": [
    "Como teoricamente estudado, a lematização se importa diretamente com a gramática da palavra e não apenas usa o radical em seu corte, o corte deve fazer sentido. "
   ]
  }
 ],
 "metadata": {
  "kernelspec": {
   "display_name": "venv (3.13.2)",
   "language": "python",
   "name": "python3"
  },
  "language_info": {
   "codemirror_mode": {
    "name": "ipython",
    "version": 3
   },
   "file_extension": ".py",
   "mimetype": "text/x-python",
   "name": "python",
   "nbconvert_exporter": "python",
   "pygments_lexer": "ipython3",
   "version": "3.13.2"
  }
 },
 "nbformat": 4,
 "nbformat_minor": 5
}
