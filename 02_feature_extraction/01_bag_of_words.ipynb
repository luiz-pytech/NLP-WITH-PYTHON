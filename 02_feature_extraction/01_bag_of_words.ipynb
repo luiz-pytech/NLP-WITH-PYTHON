{
 "cells": [
  {
   "cell_type": "markdown",
   "id": "942e49c2",
   "metadata": {},
   "source": [
    "### Bag-Of-Words - BOW\n",
    "- Selecione 5 avaliações de produtos.\n",
    "- Construa um vocabulário único a partir de todas as palavras nessas 5 avaliações (após a limpeza básica).\n",
    "- Crie uma representação Bag-of-Words para cada uma das 5 avaliações. O resultado deve ser um vetor para cada avaliação, onde cada posição corresponde a uma palavra do vocabulário e o valor é a contagem daquela palavra na avaliação.\n"
   ]
  },
  {
   "cell_type": "code",
   "execution_count": 8,
   "id": "c330fc86",
   "metadata": {},
   "outputs": [
    {
     "ename": "ModuleNotFoundError",
     "evalue": "No module named 'pandas'",
     "output_type": "error",
     "traceback": [
      "\u001b[31m---------------------------------------------------------------------------\u001b[39m",
      "\u001b[31mModuleNotFoundError\u001b[39m                       Traceback (most recent call last)",
      "\u001b[36mCell\u001b[39m\u001b[36m \u001b[39m\u001b[32mIn[8]\u001b[39m\u001b[32m, line 1\u001b[39m\n\u001b[32m----> \u001b[39m\u001b[32m1\u001b[39m \u001b[38;5;28;01mimport\u001b[39;00m\u001b[38;5;250m \u001b[39m\u001b[34;01mpandas\u001b[39;00m\u001b[38;5;250m \u001b[39m\u001b[38;5;28;01mas\u001b[39;00m\u001b[38;5;250m \u001b[39m\u001b[34;01mpd\u001b[39;00m\n\u001b[32m      2\u001b[39m \u001b[38;5;28;01mimport\u001b[39;00m\u001b[38;5;250m \u001b[39m\u001b[34;01mstring\u001b[39;00m\n\u001b[32m      3\u001b[39m \u001b[38;5;28;01mfrom\u001b[39;00m\u001b[38;5;250m \u001b[39m\u001b[34;01msklearn\u001b[39;00m\u001b[34;01m.\u001b[39;00m\u001b[34;01mfeature_extraction\u001b[39;00m\u001b[34;01m.\u001b[39;00m\u001b[34;01mtext\u001b[39;00m\u001b[38;5;250m \u001b[39m\u001b[38;5;28;01mimport\u001b[39;00m CountVectorizer\n",
      "\u001b[31mModuleNotFoundError\u001b[39m: No module named 'pandas'"
     ]
    }
   ],
   "source": [
    "import pandas as pd\n",
    "import string\n",
    "from sklearn.feature_extraction.text import CountVectorizer\n",
    "\n",
    "# Get products reviews\n",
    "dataframe = pd.read_csv('../dataset/olist_order_reviews_dataset.csv')\n",
    "\n",
    "feedbacks = (feedback for feedback in dataframe['review_comment_message'] if not pd.isna(feedback))\n",
    "print(f\"{feedbacks} e {len(feedbacks)}\")\n",
    "pd.to_csv(feedbacks, './feedbacks.csv')"
   ]
  },
  {
   "cell_type": "code",
   "execution_count": 9,
   "id": "375cb1bf",
   "metadata": {},
   "outputs": [],
   "source": [
    "def preprocess_text(text):\n",
    "    # Basic text cleaning: lowercasing and removing punctuation\n",
    "    text = text.lower()\n",
    "    text = (txt for txt in text if not txt in string.punctuation)\n",
    "    return text"
   ]
  },
  {
   "cell_type": "code",
   "execution_count": 10,
   "id": "110499a2",
   "metadata": {},
   "outputs": [
    {
     "ename": "NameError",
     "evalue": "name 'CountVectorizer' is not defined",
     "output_type": "error",
     "traceback": [
      "\u001b[31m---------------------------------------------------------------------------\u001b[39m",
      "\u001b[31mNameError\u001b[39m                                 Traceback (most recent call last)",
      "\u001b[36mCell\u001b[39m\u001b[36m \u001b[39m\u001b[32mIn[10]\u001b[39m\u001b[32m, line 1\u001b[39m\n\u001b[32m----> \u001b[39m\u001b[32m1\u001b[39m vectorizer = \u001b[43mCountVectorizer\u001b[49m(preprocessor=preprocess_text)\n\u001b[32m      3\u001b[39m \u001b[38;5;66;03m# Fit and transform the feedbacks to create the Bag-of-Words representation\u001b[39;00m\n\u001b[32m      4\u001b[39m X = vectorizer.fit_transform(feedbacks)\n",
      "\u001b[31mNameError\u001b[39m: name 'CountVectorizer' is not defined"
     ]
    }
   ],
   "source": [
    "vectorizer = CountVectorizer(preprocessor=preprocess_text)\n",
    "\n",
    "# Fit and transform the feedbacks to create the Bag-of-Words representation\n",
    "X = vectorizer.fit_transform(feedbacks)\n",
    "vectorizer.get_feature_names_out()\n",
    "print(X.toarray())"
   ]
  },
  {
   "cell_type": "markdown",
   "id": "d685705e",
   "metadata": {},
   "source": [
    "### Questão 2 (Visualização de Frequência):\n",
    "- Usando todas as avaliações do seu dataset, conte a frequência de todas as palavras (após a limpeza).\n",
    "- Crie um gráfico de barras com as 20 palavras mais frequentes.\n",
    "- O que você pode concluir a partir desse gráfico?\n"
   ]
  },
  {
   "cell_type": "code",
   "execution_count": null,
   "id": "78041d86",
   "metadata": {},
   "outputs": [
    {
     "ename": "NameError",
     "evalue": "name 'pd' is not defined",
     "output_type": "error",
     "traceback": [
      "\u001b[31m---------------------------------------------------------------------------\u001b[39m",
      "\u001b[31mNameError\u001b[39m                                 Traceback (most recent call last)",
      "\u001b[36mCell\u001b[39m\u001b[36m \u001b[39m\u001b[32mIn[7]\u001b[39m\u001b[32m, line 1\u001b[39m\n\u001b[32m----> \u001b[39m\u001b[32m1\u001b[39m dataframe_feedbacks = \u001b[43mpd\u001b[49m.read_csv(\u001b[33m'\u001b[39m\u001b[33m./feedbacks.csv\u001b[39m\u001b[33m'\u001b[39m)\n\u001b[32m      2\u001b[39m \u001b[38;5;28mprint\u001b[39m(dataframe_feedbacks.head())\n",
      "\u001b[31mNameError\u001b[39m: name 'pd' is not defined"
     ]
    }
   ],
   "source": [
    "dataframe_feedbacks = pd.read_csv('../feedbacks.csv')\n",
    "print(dataframe_feedbacks.head())\n"
   ]
  },
  {
   "cell_type": "code",
   "execution_count": null,
   "id": "e642aa44",
   "metadata": {},
   "outputs": [],
   "source": [
    "feedbacks_preprocessed = [preprocess_text(feedback) for feedback in dataframe_feedbacks]\n",
    "\n",
    "X = vectorizer.fit_transform(feedbacks_preprocessed).toarray()\n",
    "words_frequention = X.transform(feedbacks_preprocessed).toarray()[:20] # Get the frequency of the 20 most common words\n",
    "\n",
    "import matplotlib.pyplot as plt\n",
    "plt.bar(range(len(words_frequention)), words_frequention)\n",
    "plt.xlabel('Words')\n",
    "plt.ylabel('Frequency')\n",
    "plt.title('Top 20 Most Frequent Words in Product Reviews')\n",
    "plt.show()\n"
   ]
  }
 ],
 "metadata": {
  "kernelspec": {
   "display_name": "Python 3",
   "language": "python",
   "name": "python3"
  },
  "language_info": {
   "codemirror_mode": {
    "name": "ipython",
    "version": 3
   },
   "file_extension": ".py",
   "mimetype": "text/x-python",
   "name": "python",
   "nbconvert_exporter": "python",
   "pygments_lexer": "ipython3",
   "version": "3.13.5"
  }
 },
 "nbformat": 4,
 "nbformat_minor": 5
}
